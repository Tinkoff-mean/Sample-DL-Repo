{
 "cells": [
  {
   "cell_type": "markdown",
   "metadata": {
    "colab_type": "text",
    "id": "mo4MwTZtocWC"
   },
   "source": [
    "# Backprop своими руками"
   ]
  },
  {
   "cell_type": "markdown",
   "metadata": {
    "colab_type": "text",
    "id": "ZTn-EUeLocWG"
   },
   "source": [
    "Материалы:\n",
    "\n",
    "* [Andrew Karpahy: yes, you should understand backprop](https://medium.com/@karpathy/yes-you-should-understand-backprop-e2f06eab496b)\n",
    "* [Stanford CS231n](http://cs231n.stanford.edu/)\n",
    "* [Deep Learning](http://sereja.me/f/deep_learning_goodfellow.pdf) — с 204 страницы и до прозрения\n",
    "* [Xavier, Bengio](http://proceedings.mlr.press/v9/glorot10a/glorot10a.pdf)"
   ]
  },
  {
   "cell_type": "markdown",
   "metadata": {
    "colab_type": "text",
    "id": "vr9onIFLocWI"
   },
   "source": [
    "<img width='800px' src='https://cdn-images-1.medium.com/max/1600/1*q1M7LGiDTirwU-4LcFq7_Q.png'>"
   ]
  },
  {
   "cell_type": "markdown",
   "metadata": {
    "colab_type": "text",
    "id": "0pNAiOscocWJ"
   },
   "source": [
    "Иногда сети пишут на чистом C++, причём код для обучения и инференса (реального прогона в продакшне) — отдельно. Так делают, когда нужен очень быстрый отклик и высокая производительность, но это очень трудоемко.\n",
    "\n",
    "Большинство людей не усложняют себе жизнь и просто используют фреймворки — с ними можно просто почти декларативно описать, какие операции хотите сделать с данными, а он потом сам построит сеть и подгонит её под данные.\n",
    "\n",
    "Ваше задание — реализовать свой небольшой фреймворк глубокого обучения на чистом `numpy`. Основное время у вас должно уйти на вывод формул для градиентов, анализ поведения самых часто используемых слоев в современных нейросетях и прочий матан. Хотя бы один раз в жизни это надо сделать, а уже потом пользоваться готовыми абстракциями."
   ]
  },
  {
   "cell_type": "markdown",
   "metadata": {
    "colab_type": "text",
    "id": "boLW-DeTocWL"
   },
   "source": [
    "Предполагаемый порядок выполнения:\n",
    "* Поймите на высоком уровне, как работает алгоритм backpropagation\n",
    "* Изучите пример с логиситической регрессией, чтобы понять, что от вас в итоге хотят\n",
    "* Изучите код `Module`\n",
    "* `Sequential`\n",
    "* `Linear`\n",
    "* `SoftMax`\n",
    "* `CrossEntropy`\n",
    "* Протестируйте их на логситической регрессии\n",
    "* Напишите код для решения MNIST\n",
    "* Дописывайте остальные слои, пока не получите на нём 97%"
   ]
  },
  {
   "cell_type": "markdown",
   "metadata": {
    "colab_type": "text",
    "id": "sPciq6WzocWN"
   },
   "source": [
    "Оценивание (суммарно до 20 баллов):\n",
    "* 5 баллов -- что-то хоть как-то обучается, MNIST на валидации >90%\n",
    "* 2 балла -- MNIST на 95%, дальше по одному баллу за 96%, 97% и 98%. Это будет сделать намного сложнее, чем через PyTorch, потому что вам всё нужно писать самим: более сложные оптимизаторы, learning rate decay, думать про численную стабильность и т. д.\n",
    "* По 2 балла за слои: LeakyReLU, Dropout, BatchNorm, CrossEntropy, SoftMax"
   ]
  },
  {
   "cell_type": "markdown",
   "metadata": {
    "colab_type": "text",
    "id": "VrI9amBAocWO"
   },
   "source": [
    "Советы:\n",
    "* Чтобы лучше понять, что должно в итоге получиться, изучите «игрушечный пример» и вообще эту тетрадку, а потом начните читать `hw_framework.py`, где будет более техничное описание.\n",
    "* Для дебага проверяйте градиенты численно — сдвигайте параметры на какой-нибудь эпсилон и смотрите разницу. Ещё можете проверить, что на одинаковых данных они дают то же, что их эквиваленты из PyTorch (можно после каждого нового слоя добавить юнит тест через `assert`).\n",
    "* Пишите код без циклов — в питоне они очень долгие; все вычисления можно делать внутри numpy.\n",
    "* Ограничение на срок сдачи большое — до конца всего курса, но рекомендуется закончить примерно за месяц. Дописывайте его постепенно, разбираясь, как работает каждая функция активации.\n",
    "* Обсуждайте математику и общую архитектуру фреймворка, но не шарьте друг другу код — так не интересно."
   ]
  },
  {
   "cell_type": "code",
   "execution_count": 1,
   "metadata": {
    "ExecuteTime": {
     "end_time": "2022-05-02T16:03:04.106727Z",
     "start_time": "2022-05-02T16:03:03.658167Z"
    },
    "colab": {},
    "colab_type": "code",
    "id": "osDsI56TocWQ"
   },
   "outputs": [],
   "source": [
    "import numpy as np\n",
    "import matplotlib.pyplot as plt\n",
    "%matplotlib inline"
   ]
  },
  {
   "cell_type": "markdown",
   "metadata": {
    "colab_type": "text",
    "id": "rArLbzznocWU"
   },
   "source": [
    "---"
   ]
  },
  {
   "cell_type": "markdown",
   "metadata": {
    "colab_type": "text",
    "id": "9SpmBG6XocWV"
   },
   "source": [
    "Откройте в Jupyter две тетрадки — эту и `hw_framework.ipynb`. В этой содержится train loop, а там непосредственно ваш «фреймворк», который вам ещё предстоит написать.\n",
    "\n",
    "Архитектура фреймворка вдохновлена PyTorch. Как всегда, если придумаете какой-то более клёвый дизайн — можете использовать его."
   ]
  },
  {
   "cell_type": "code",
   "execution_count": 2,
   "metadata": {
    "ExecuteTime": {
     "end_time": "2022-05-02T16:03:04.371043Z",
     "start_time": "2022-05-02T16:03:04.109066Z"
    },
    "colab": {},
    "colab_type": "code",
    "id": "AR35O38uocWX"
   },
   "outputs": [
    {
     "name": "stdout",
     "output_type": "stream",
     "text": [
      "Wall time: 62.7 ms\n",
      "Wall time: 11 ms\n"
     ]
    }
   ],
   "source": [
    "%run hw_framework.ipynb"
   ]
  },
  {
   "cell_type": "markdown",
   "metadata": {
    "colab_type": "text",
    "id": "Z03GIF03ocWc"
   },
   "source": [
    "Мы будем использовать самый простой вариант градиентного спуска: просто пройдемся по всем параметрам и сделаем шаги в сторону уменьшения посчитанного заранее градиента.\n",
    "\n",
    "Есть [более продвинутые методы](http://ruder.io/optimizing-gradient-descent/), но пока что мы их использовать не будем."
   ]
  },
  {
   "cell_type": "code",
   "execution_count": 3,
   "metadata": {
    "ExecuteTime": {
     "end_time": "2022-05-02T16:03:04.386106Z",
     "start_time": "2022-05-02T16:03:04.373711Z"
    },
    "colab": {},
    "colab_type": "code",
    "id": "gIkgsfAXocWd"
   },
   "outputs": [],
   "source": [
    "def SGD(params, gradients, lr=1e-3):    \n",
    "    for weights, gradient in zip(params, gradients):\n",
    "        weights -= lr * gradient"
   ]
  },
  {
   "cell_type": "markdown",
   "metadata": {
    "colab_type": "text",
    "id": "PfBYatsKocWh"
   },
   "source": [
    "Cоздадим обертку вокруг нашего датасета (просто numpy-евские массивы), которую будем потом использовать, чтобы итерироваться по нему."
   ]
  },
  {
   "cell_type": "code",
   "execution_count": 4,
   "metadata": {
    "ExecuteTime": {
     "end_time": "2022-05-02T16:03:04.401640Z",
     "start_time": "2022-05-02T16:03:04.388511Z"
    },
    "colab": {},
    "colab_type": "code",
    "id": "jDmJKg8hocWi"
   },
   "outputs": [],
   "source": [
    "def loader(X, Y, batch_size):    \n",
    "    n = X.shape[0]\n",
    "    indices = np.arange(n)\n",
    "    np.random.shuffle(indices)\n",
    "    for start in range(0, n, batch_size):\n",
    "        end = min(start + batch_size, n)\n",
    "        batch_idx = indices[start:end]\n",
    "        yield X[batch_idx], Y[batch_idx]"
   ]
  },
  {
   "cell_type": "markdown",
   "metadata": {
    "colab_type": "text",
    "id": "yMcWZrUPocWm"
   },
   "source": [
    "В следующих двух секциях — игрушечные примеры регрессии и классификации на синтезированных данных. В них ничего менять не надо — они нужны, чтобы отдебажить ваши слои в `hw_framework`."
   ]
  },
  {
   "cell_type": "markdown",
   "metadata": {
    "colab_type": "text",
    "id": "MLPP2pyMocWn"
   },
   "source": [
    "# Линейная регрессия"
   ]
  },
  {
   "cell_type": "code",
   "execution_count": 5,
   "metadata": {
    "ExecuteTime": {
     "end_time": "2022-05-02T16:03:04.464019Z",
     "start_time": "2022-05-02T16:03:04.404342Z"
    },
    "colab": {},
    "colab_type": "code",
    "id": "i2oHX9NQocWo",
    "scrolled": true
   },
   "outputs": [
    {
     "name": "stdout",
     "output_type": "stream",
     "text": [
      "best_possible_mse: 17.742680177936386\n"
     ]
    }
   ],
   "source": [
    "n = 1000\n",
    "\n",
    "X = np.random.randn(n, 10)\n",
    "true_w = np.random.randn(10, 1)\n",
    "Y = np.dot(X, true_w).reshape(n, 1) + np.random.randn(n, 1)/5\n",
    "\n",
    "print('best_possible_mse:', np.mean(np.power(Y-np.dot(X, true_w).reshape(n), 2)))"
   ]
  },
  {
   "cell_type": "markdown",
   "metadata": {
    "colab_type": "text",
    "id": "gu4bulrKocWs"
   },
   "source": [
    "### Модель"
   ]
  },
  {
   "cell_type": "code",
   "execution_count": 6,
   "metadata": {
    "ExecuteTime": {
     "end_time": "2022-05-02T16:03:04.479514Z",
     "start_time": "2022-05-02T16:03:04.466054Z"
    },
    "colab": {},
    "colab_type": "code",
    "id": "2bHZzM0XocWt"
   },
   "outputs": [],
   "source": [
    "model = Sequential(\n",
    "    Linear(10, 1),\n",
    ")\n",
    "\n",
    "criterion = MSE()"
   ]
  },
  {
   "cell_type": "markdown",
   "metadata": {
    "colab_type": "text",
    "id": "dsdkT55BocWx"
   },
   "source": [
    "Можете тут потом тестировать остальные свои слои, когда их напишите."
   ]
  },
  {
   "cell_type": "markdown",
   "metadata": {
    "colab_type": "text",
    "id": "G6cJy-nOocWy"
   },
   "source": [
    "### Обучение"
   ]
  },
  {
   "cell_type": "code",
   "execution_count": 7,
   "metadata": {
    "ExecuteTime": {
     "end_time": "2022-05-02T16:03:04.494878Z",
     "start_time": "2022-05-02T16:03:04.481644Z"
    },
    "colab": {},
    "colab_type": "code",
    "id": "P3Y7VImUocW0"
   },
   "outputs": [],
   "source": [
    "epochs = 10\n",
    "batch_size = 10\n",
    "learning_rate = 1e-1"
   ]
  },
  {
   "cell_type": "code",
   "execution_count": 8,
   "metadata": {
    "ExecuteTime": {
     "end_time": "2022-05-02T16:03:04.680444Z",
     "start_time": "2022-05-02T16:03:04.497383Z"
    },
    "colab": {},
    "colab_type": "code",
    "id": "8NHCVPRiocW4",
    "scrolled": false
   },
   "outputs": [
    {
     "data": {
      "image/png": "[encoded data removed]",
      "text/plain": [
       "<Figure size 432x288 with 1 Axes>"
      ]
     },
     "metadata": {
      "needs_background": "light"
     },
     "output_type": "display_data"
    }
   ],
   "source": [
    "history = []\n",
    "\n",
    "for i in range(epochs):\n",
    "    for x, y_true in loader(X, Y, batch_size):\n",
    "        y_pred = model.forward(x)\n",
    "        loss = criterion.forward(y_pred, y_true)\n",
    "        \n",
    "        grad = criterion.backward(y_pred, y_true)\n",
    "        model.backward(x, grad)\n",
    "        \n",
    "        SGD(model.parameters(),\n",
    "            model.grad_parameters(),\n",
    "            learning_rate)\n",
    "        \n",
    "        history.append(loss)\n",
    "\n",
    "    \n",
    "plt.title(\"Training loss\")\n",
    "plt.xlabel(\"iteration\")\n",
    "plt.ylabel(\"loss\")\n",
    "plt.plot(history, 'b')\n",
    "plt.show()"
   ]
  },
  {
   "cell_type": "markdown",
   "metadata": {
    "colab_type": "text",
    "id": "33YJP2KeocW8"
   },
   "source": [
    "# Логистическая регрессия\n",
    "\n",
    "Этот пример нужнен для теситрования классификации (`CrossEntropy` и `SoftMax`).\n",
    "\n",
    "Возьмем в качестве датасета точки из двух гауссиан на плоскости."
   ]
  },
  {
   "cell_type": "code",
   "execution_count": 9,
   "metadata": {
    "ExecuteTime": {
     "end_time": "2022-05-02T16:03:04.819598Z",
     "start_time": "2022-05-02T16:03:04.683312Z"
    },
    "colab": {},
    "colab_type": "code",
    "id": "Vy-6IgGWocW9",
    "scrolled": false
   },
   "outputs": [
    {
     "data": {
      "image/png": "[encoded data removed]",
      "text/plain": [
       "<Figure size 432x288 with 1 Axes>"
      ]
     },
     "metadata": {
      "needs_background": "light"
     },
     "output_type": "display_data"
    }
   ],
   "source": [
    "n = 500\n",
    "\n",
    "X1 = np.random.randn(n, 2) + np.array([2, 2])\n",
    "X2 = np.random.randn(n, 2) + np.array([-2, -2])\n",
    "X = np.vstack([X1, X2])\n",
    "\n",
    "Y = np.concatenate([np.ones(n), np.zeros(n)])[:, None]\n",
    "Y = np.hstack([Y, 1-Y])\n",
    "\n",
    "plt.scatter(X[:,0], X[:,1], c=Y[:, 0])\n",
    "plt.show()"
   ]
  },
  {
   "cell_type": "markdown",
   "metadata": {
    "colab_type": "text",
    "id": "g6ga19VxocXB"
   },
   "source": [
    "Обратите внимание на `y`. Он в формате one-hot: у каждого вектора все нули, кроме одной единицы.\n",
    "\n",
    "Выходные данные в таком формате упростят написание `CrossEntropy`."
   ]
  },
  {
   "cell_type": "markdown",
   "metadata": {
    "colab_type": "text",
    "id": "zNDguGQXocXD"
   },
   "source": [
    "### Модель\n",
    "\n",
    "Логистическая регрессия — это тоже как бы маленькая нейронка: линейный слой, софтмакс, и максимизируем правдоподобие."
   ]
  },
  {
   "cell_type": "code",
   "execution_count": 10,
   "metadata": {
    "ExecuteTime": {
     "end_time": "2022-05-02T16:03:04.834807Z",
     "start_time": "2022-05-02T16:03:04.820598Z"
    },
    "colab": {},
    "colab_type": "code",
    "id": "fdKlc0EgocXE"
   },
   "outputs": [],
   "source": [
    "model = Sequential(\n",
    "    Linear(2, 2),\n",
    "    SoftMax()\n",
    ")\n",
    "\n",
    "criterion = CrossEntropy()"
   ]
  },
  {
   "cell_type": "markdown",
   "metadata": {
    "colab_type": "text",
    "id": "NMoT8yXCocXI"
   },
   "source": [
    "### Обучение"
   ]
  },
  {
   "cell_type": "code",
   "execution_count": 11,
   "metadata": {
    "ExecuteTime": {
     "end_time": "2022-05-02T16:03:04.850537Z",
     "start_time": "2022-05-02T16:03:04.836317Z"
    },
    "colab": {},
    "colab_type": "code",
    "id": "KIk7RXUrocXJ"
   },
   "outputs": [],
   "source": [
    "epochs = 10\n",
    "batch_size = 16\n",
    "learning_rate = 1e-2"
   ]
  },
  {
   "cell_type": "code",
   "execution_count": 12,
   "metadata": {
    "ExecuteTime": {
     "end_time": "2022-05-02T16:03:04.866127Z",
     "start_time": "2022-05-02T16:03:04.852592Z"
    }
   },
   "outputs": [],
   "source": [
    "def accuracy(model, X, Y):\n",
    "    model.eval()\n",
    "    total = 0\n",
    "    correct = 0\n",
    "    for x, y_true in loader(X, Y, batch_size):\n",
    "        y_pred = model.forward(x)\n",
    "        correct += (y_true.argmax(axis=1) == y_pred.argmax(axis=1)).sum()\n",
    "        total += x.shape[0]\n",
    "    return correct / total"
   ]
  },
  {
   "cell_type": "code",
   "execution_count": 13,
   "metadata": {
    "ExecuteTime": {
     "end_time": "2022-05-02T16:03:05.084844Z",
     "start_time": "2022-05-02T16:03:04.869141Z"
    },
    "colab": {},
    "colab_type": "code",
    "id": "6RU473D9ocXN",
    "scrolled": false
   },
   "outputs": [
    {
     "data": {
      "image/png": "[encoded data removed]",
      "text/plain": [
       "<Figure size 432x288 with 1 Axes>"
      ]
     },
     "metadata": {
      "needs_background": "light"
     },
     "output_type": "display_data"
    }
   ],
   "source": [
    "history = []\n",
    "\n",
    "for i in range(epochs):\n",
    "    model.train()\n",
    "    for x, y_true in loader(X, Y, batch_size):\n",
    "        y_pred = model.forward(x)\n",
    "        loss = criterion.forward(y_pred, y_true)\n",
    "    \n",
    "        grad = criterion.backward(y_pred, y_true)\n",
    "        model.backward(x, grad)\n",
    "        \n",
    "        SGD(model.parameters(), model.grad_parameters(), learning_rate)\n",
    "        history.append(loss)\n",
    "\n",
    "plt.title(\"Training loss\")\n",
    "plt.xlabel(\"iteration\")\n",
    "plt.ylabel(\"loss\")\n",
    "plt.plot(history, 'b')\n",
    "plt.show()"
   ]
  },
  {
   "cell_type": "code",
   "execution_count": 14,
   "metadata": {
    "ExecuteTime": {
     "end_time": "2022-05-02T16:03:05.100814Z",
     "start_time": "2022-05-02T16:03:05.087446Z"
    }
   },
   "outputs": [
    {
     "data": {
      "text/plain": [
       "0.997"
      ]
     },
     "execution_count": 14,
     "metadata": {},
     "output_type": "execute_result"
    }
   ],
   "source": [
    "accuracy(model, X, Y)"
   ]
  },
  {
   "cell_type": "markdown",
   "metadata": {
    "colab_type": "text",
    "id": "Mc_7Av6uocXR"
   },
   "source": [
    "Мы тут пропустили много важных деталей: валидация, подсчет точности (кроссэнтропия не очень информативна), регуляризация. Вам всё это нужно будет реализовать потом самим."
   ]
  },
  {
   "cell_type": "markdown",
   "metadata": {
    "colab_type": "text",
    "id": "tmqQxNhFocXS"
   },
   "source": [
    "# Теперь сами"
   ]
  },
  {
   "cell_type": "code",
   "execution_count": 15,
   "metadata": {
    "ExecuteTime": {
     "end_time": "2022-05-02T16:03:06.224157Z",
     "start_time": "2022-05-02T16:03:05.103824Z"
    },
    "colab": {},
    "colab_type": "code",
    "id": "BRYIbyvzocXT"
   },
   "outputs": [],
   "source": [
    "import os\n",
    "from sklearn.datasets import fetch_openml\n",
    "# эти библиотеки нужны только для того, чтобы скачать MNISt\n",
    "\n",
    "if os.path.exists('mnist.npz'):\n",
    "    with np.load('mnist.npz', 'r',  allow_pickle=True) as data:\n",
    "        X = data['X']\n",
    "        y = data['y']\n",
    "else:\n",
    "    mnist = fetch_openml('mnist_784')\n",
    "    # очень важно его отнормировать -- см. Linear в hw_framework\n",
    "    X = mnist.data / 255.0\n",
    "    y = mnist.target\n",
    "    np.savez('mnist.npz', X=X, y=y)"
   ]
  },
  {
   "cell_type": "markdown",
   "metadata": {
    "colab_type": "text",
    "id": "FPZV7JdYocXa"
   },
   "source": [
    "Переведите лейблы в one-hot."
   ]
  },
  {
   "cell_type": "code",
   "execution_count": 16,
   "metadata": {
    "ExecuteTime": {
     "end_time": "2022-05-02T16:03:06.565872Z",
     "start_time": "2022-05-02T16:03:06.225725Z"
    }
   },
   "outputs": [],
   "source": [
    "import pandas as pd\n",
    "y = pd.get_dummies(y).to_numpy(dtype=np.float64)"
   ]
  },
  {
   "cell_type": "markdown",
   "metadata": {
    "colab_type": "text",
    "id": "d726biJBocXj"
   },
   "source": [
    "Разделите датасет на train и validation."
   ]
  },
  {
   "cell_type": "code",
   "execution_count": 17,
   "metadata": {
    "ExecuteTime": {
     "end_time": "2022-05-02T16:03:07.650479Z",
     "start_time": "2022-05-02T16:03:06.567327Z"
    },
    "colab": {},
    "colab_type": "code",
    "id": "VDMMhl24ocXk"
   },
   "outputs": [],
   "source": [
    "from sklearn.model_selection import train_test_split\n",
    "X_train, X_val, y_train, y_val = train_test_split(X, y, test_size=0.2)"
   ]
  },
  {
   "cell_type": "markdown",
   "metadata": {
    "colab_type": "text",
    "id": "XHv3CVCIocXo"
   },
   "source": [
    "Теперь напишите модель и train loop. Можете начать с адаптации предыдущего примера.\n",
    "\n",
    "Дальше начинается творческая часть и настоящий Deep Learning:\n",
    "* поиграйтесь с архитектурами;\n",
    "* поиграйтесь с learning rate и batch_size;\n",
    "* сделайте learning rate decay;\n",
    "* сделайте data augmentation.\n",
    "\n",
    "Have fun. Дедлайн — не две недели, а до конца курса."
   ]
  },
  {
   "cell_type": "code",
   "execution_count": 39,
   "metadata": {
    "ExecuteTime": {
     "end_time": "2022-05-02T16:38:10.761805Z",
     "start_time": "2022-05-02T16:38:10.749862Z"
    },
    "colab": {},
    "colab_type": "code",
    "id": "q4XW6uFEocXp"
   },
   "outputs": [],
   "source": [
    "model = Sequential(\n",
    "    Linear(28 * 28, 300),\n",
    "    ReLU(),\n",
    "#     Dropout(0.4),\n",
    "    Linear(300, 100),\n",
    "    ReLU(),\n",
    "#     Dropout(0.4),\n",
    "    Linear(100, 30),\n",
    "    ReLU(),\n",
    "#     Dropout(0.4),\n",
    "    Linear(30, 10),\n",
    "    SoftMax()\n",
    ")"
   ]
  },
  {
   "cell_type": "code",
   "execution_count": 40,
   "metadata": {
    "ExecuteTime": {
     "end_time": "2022-05-02T16:38:12.329284Z",
     "start_time": "2022-05-02T16:38:12.318147Z"
    }
   },
   "outputs": [],
   "source": [
    "epochs = 100\n",
    "batch_size = 128\n",
    "learning_rate = 1e-3\n",
    "\n",
    "criterion = CrossEntropy()"
   ]
  },
  {
   "cell_type": "code",
   "execution_count": 41,
   "metadata": {
    "ExecuteTime": {
     "end_time": "2022-05-02T16:39:17.069758Z",
     "start_time": "2022-05-02T16:38:13.718216Z"
    },
    "colab": {},
    "colab_type": "code",
    "id": "EHGcq3iMocXs"
   },
   "outputs": [
    {
     "name": "stdout",
     "output_type": "stream",
     "text": [
      "Epoch: 0, train acc: 0.9154, val acc: 0.9110\n",
      "Epoch: 1, train acc: 0.9497, val acc: 0.9419\n",
      "Epoch: 2, train acc: 0.9655, val acc: 0.9554\n",
      "Epoch: 3, train acc: 0.9781, val acc: 0.9655\n",
      "Epoch: 4, train acc: 0.9795, val acc: 0.9647\n",
      "Epoch: 5, train acc: 0.9760, val acc: 0.9614\n",
      "Epoch: 6, train acc: 0.9864, val acc: 0.9714\n"
     ]
    },
    {
     "data": {
      "image/png": "[encoded data removed]",
      "text/plain": [
       "<Figure size 432x288 with 1 Axes>"
      ]
     },
     "metadata": {
      "needs_background": "light"
     },
     "output_type": "display_data"
    }
   ],
   "source": [
    "history = []\n",
    "train_acc = []\n",
    "val_acc = []\n",
    "\n",
    "for i in range(epochs):\n",
    "    model.train()\n",
    "    for x, y_true in loader(X_train, y_train, batch_size):\n",
    "        y_pred = model.forward(x)\n",
    "        loss = criterion.forward(y_pred, y_true)\n",
    "    \n",
    "        grad = criterion.backward(y_pred, y_true)\n",
    "        model.backward(x, grad)\n",
    "        SGD(model.parameters(), model.grad_parameters(), learning_rate)\n",
    "\n",
    "        history.append(loss)\n",
    "    \n",
    "    cur_train_acc = accuracy(model, X_train, y_train)\n",
    "    cur_val_acc = accuracy(model, X_val, y_val)\n",
    "    train_acc.append(cur_train_acc)\n",
    "    val_acc.append(cur_val_acc)\n",
    "    print(f'Epoch: {i}, train acc: {cur_train_acc:.4f}, val acc: {cur_val_acc:.4f}')\n",
    "    if cur_val_acc >= 0.97:\n",
    "        break\n",
    "\n",
    "    \n",
    "plt.title(\"Training loss\")\n",
    "plt.xlabel(\"iteration\")\n",
    "plt.ylabel(\"loss\")\n",
    "plt.plot(history, 'b')\n",
    "plt.show()"
   ]
  },
  {
   "cell_type": "code",
   "execution_count": 46,
   "metadata": {
    "ExecuteTime": {
     "end_time": "2022-05-02T16:42:36.242401Z",
     "start_time": "2022-05-02T16:42:35.933288Z"
    }
   },
   "outputs": [
    {
     "data": {
      "image/png": "[encoded data removed]",
      "text/plain": [
       "<Figure size 432x288 with 1 Axes>"
      ]
     },
     "metadata": {
      "needs_background": "light"
     },
     "output_type": "display_data"
    }
   ],
   "source": [
    "import matplotlib.pyplot as plt\n",
    "\n",
    "plt.plot(np.arange(7), val_acc, )\n",
    "plt.plot(np.arange(7), train_acc)\n",
    "plt.ylabel('Accuracy')\n",
    "plt.xlabel('Epoch')\n",
    "plt.show()"
   ]
  }
 ],
 "metadata": {
  "colab": {
   "collapsed_sections": [],
   "name": "hw_backprop.ipynb",
   "provenance": []
  },
  "kernelspec": {
   "display_name": "Python 3 (ipykernel)",
   "language": "python",
   "name": "python3"
  },
  "language_info": {
   "codemirror_mode": {
    "name": "ipython",
    "version": 3
   },
   "file_extension": ".py",
   "mimetype": "text/x-python",
   "name": "python",
   "nbconvert_exporter": "python",
   "pygments_lexer": "ipython3",
   "version": "3.9.7"
  },
  "toc": {
   "base_numbering": 1,
   "nav_menu": {},
   "number_sections": true,
   "sideBar": true,
   "skip_h1_title": false,
   "title_cell": "Table of Contents",
   "title_sidebar": "Contents",
   "toc_cell": false,
   "toc_position": {},
   "toc_section_display": true,
   "toc_window_display": false
  },
  "varInspector": {
   "cols": {
    "lenName": 16,
    "lenType": 16,
    "lenVar": 40
   },
   "kernels_config": {
    "python": {
     "delete_cmd_postfix": "",
     "delete_cmd_prefix": "del ",
     "library": "var_list.py",
     "varRefreshCmd": "print(var_dic_list())"
    },
    "r": {
     "delete_cmd_postfix": ") ",
     "delete_cmd_prefix": "rm(",
     "library": "var_list.r",
     "varRefreshCmd": "cat(var_dic_list()) "
    }
   },
   "types_to_exclude": [
    "module",
    "function",
    "builtin_function_or_method",
    "instance",
    "_Feature"
   ],
   "window_display": false
  }
 },
 "nbformat": 4,
 "nbformat_minor": 1
}
